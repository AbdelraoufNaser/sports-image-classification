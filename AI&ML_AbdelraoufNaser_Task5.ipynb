{
  "nbformat": 4,
  "nbformat_minor": 0,
  "metadata": {
    "colab": {
      "provenance": [],
      "gpuType": "T4"
    },
    "kernelspec": {
      "name": "python3",
      "display_name": "Python 3"
    },
    "language_info": {
      "name": "python"
    },
    "accelerator": "GPU"
  },
  "cells": [
    {
      "cell_type": "code",
      "source": [
        "!pip install keras-tuner --quiet\n"
      ],
      "metadata": {
        "colab": {
          "base_uri": "https://localhost:8080/"
        },
        "id": "t5hwMIShsh_e",
        "outputId": "ee0067a0-0f79-4681-9d82-d0d45388be3e"
      },
      "execution_count": 1,
      "outputs": [
        {
          "output_type": "stream",
          "name": "stdout",
          "text": [
            "\u001b[?25l   \u001b[90m━━━━━━━━━━━━━━━━━━━━━━━━━━━━━━━━━━━━━━━━\u001b[0m \u001b[32m0.0/129.1 kB\u001b[0m \u001b[31m?\u001b[0m eta \u001b[36m-:--:--\u001b[0m\r\u001b[2K   \u001b[90m━━━━━━━━━━━━━━━━━━━━━━━━━━━━━━━━━━━━━━━━\u001b[0m \u001b[32m129.1/129.1 kB\u001b[0m \u001b[31m4.2 MB/s\u001b[0m eta \u001b[36m0:00:00\u001b[0m\n",
            "\u001b[?25h"
          ]
        }
      ]
    },
    {
      "cell_type": "code",
      "execution_count": 2,
      "metadata": {
        "id": "__gIKbzjrKWR"
      },
      "outputs": [],
      "source": [
        "import os\n",
        "import numpy as np\n",
        "import matplotlib.pyplot as plt\n",
        "import tensorflow as tf\n",
        "from tensorflow.keras import layers, models\n",
        "from sklearn.metrics import classification_report, confusion_matrix\n",
        "import keras_tuner as kt\n"
      ]
    },
    {
      "cell_type": "code",
      "source": [
        "import kagglehub\n",
        "\n",
        "path = kagglehub.dataset_download(\"gpiosenka/sports-classification\")\n",
        "print(\"Path to dataset files:\", path)\n"
      ],
      "metadata": {
        "colab": {
          "base_uri": "https://localhost:8080/"
        },
        "id": "b4eZ6lXhQauB",
        "outputId": "40c931b1-ec0d-4126-f7d1-93eda60fc4e8"
      },
      "execution_count": 4,
      "outputs": [
        {
          "output_type": "stream",
          "name": "stdout",
          "text": [
            "Path to dataset files: /kaggle/input/sports-classification\n"
          ]
        }
      ]
    },
    {
      "cell_type": "code",
      "source": [
        "BASE_DIR = \"/kaggle/input/sports-classification\"\n",
        "TRAIN_DIR = os.path.join(BASE_DIR, \"train\")\n",
        "VALID_DIR = os.path.join(BASE_DIR, \"valid\")\n",
        "TEST_DIR = os.path.join(BASE_DIR, \"test\")\n",
        "\n",
        "print(\"Train classes:\", len(os.listdir(TRAIN_DIR)))\n",
        "print(\"Validation classes:\", len(os.listdir(VALID_DIR)))\n",
        "print(\"Test classes:\", len(os.listdir(TEST_DIR)))\n"
      ],
      "metadata": {
        "colab": {
          "base_uri": "https://localhost:8080/"
        },
        "id": "olFwEIAsrSqV",
        "outputId": "a915a21a-d2d5-4f21-8b30-2fb447c2cb4f"
      },
      "execution_count": 5,
      "outputs": [
        {
          "output_type": "stream",
          "name": "stdout",
          "text": [
            "Train classes: 100\n",
            "Validation classes: 100\n",
            "Test classes: 100\n"
          ]
        }
      ]
    },
    {
      "cell_type": "code",
      "source": [
        "img_height, img_width = 128, 128\n",
        "batch_size = 32\n",
        "\n",
        "train_ds = tf.keras.utils.image_dataset_from_directory(\n",
        "    TRAIN_DIR,\n",
        "    image_size=(img_height, img_width),\n",
        "    batch_size=batch_size\n",
        ")\n",
        "\n",
        "val_ds = tf.keras.utils.image_dataset_from_directory(\n",
        "    VALID_DIR,\n",
        "    image_size=(img_height, img_width),\n",
        "    batch_size=batch_size\n",
        ")\n",
        "\n",
        "test_ds = tf.keras.utils.image_dataset_from_directory(\n",
        "    TEST_DIR,\n",
        "    image_size=(img_height, img_width),\n",
        "    batch_size=batch_size\n",
        ")\n",
        "\n",
        "class_names = train_ds.class_names\n",
        "print(\"Classes:\", class_names)\n"
      ],
      "metadata": {
        "colab": {
          "base_uri": "https://localhost:8080/"
        },
        "id": "MIlIxCUxtAHo",
        "outputId": "b4278259-c36b-46c8-eaf4-df2228f98948"
      },
      "execution_count": 6,
      "outputs": [
        {
          "output_type": "stream",
          "name": "stdout",
          "text": [
            "Found 13492 files belonging to 100 classes.\n",
            "Found 500 files belonging to 100 classes.\n",
            "Found 500 files belonging to 100 classes.\n",
            "Classes: ['air hockey', 'ampute football', 'archery', 'arm wrestling', 'axe throwing', 'balance beam', 'barell racing', 'baseball', 'basketball', 'baton twirling', 'bike polo', 'billiards', 'bmx', 'bobsled', 'bowling', 'boxing', 'bull riding', 'bungee jumping', 'canoe slamon', 'cheerleading', 'chuckwagon racing', 'cricket', 'croquet', 'curling', 'disc golf', 'fencing', 'field hockey', 'figure skating men', 'figure skating pairs', 'figure skating women', 'fly fishing', 'football', 'formula 1 racing', 'frisbee', 'gaga', 'giant slalom', 'golf', 'hammer throw', 'hang gliding', 'harness racing', 'high jump', 'hockey', 'horse jumping', 'horse racing', 'horseshoe pitching', 'hurdles', 'hydroplane racing', 'ice climbing', 'ice yachting', 'jai alai', 'javelin', 'jousting', 'judo', 'lacrosse', 'log rolling', 'luge', 'motorcycle racing', 'mushing', 'nascar racing', 'olympic wrestling', 'parallel bar', 'pole climbing', 'pole dancing', 'pole vault', 'polo', 'pommel horse', 'rings', 'rock climbing', 'roller derby', 'rollerblade racing', 'rowing', 'rugby', 'sailboat racing', 'shot put', 'shuffleboard', 'sidecar racing', 'ski jumping', 'sky surfing', 'skydiving', 'snow boarding', 'snowmobile racing', 'speed skating', 'steer wrestling', 'sumo wrestling', 'surfing', 'swimming', 'table tennis', 'tennis', 'track bicycle', 'trapeze', 'tug of war', 'ultimate', 'uneven bars', 'volleyball', 'water cycling', 'water polo', 'weightlifting', 'wheelchair basketball', 'wheelchair racing', 'wingsuit flying']\n"
          ]
        }
      ]
    },
    {
      "cell_type": "code",
      "source": [
        "AUTOTUNE = tf.data.AUTOTUNE\n",
        "\n",
        "train_ds = train_ds.cache().shuffle(1000).prefetch(buffer_size=AUTOTUNE)\n",
        "val_ds = val_ds.cache().prefetch(buffer_size=AUTOTUNE)\n",
        "test_ds = test_ds.cache().prefetch(buffer_size=AUTOTUNE)\n"
      ],
      "metadata": {
        "id": "0dMvVTjMtQ7I"
      },
      "execution_count": 7,
      "outputs": []
    },
    {
      "cell_type": "code",
      "source": [
        "def build_model(hp):\n",
        "    model = models.Sequential([\n",
        "        layers.Rescaling(1./255, input_shape=(img_height, img_width, 3)),\n",
        "\n",
        "        layers.Conv2D(\n",
        "            filters=hp.Choice(\"conv_1_filter\", values=[32, 64], default=32),\n",
        "            kernel_size=hp.Choice(\"conv_1_kernel\", values=[3,5]),\n",
        "            activation=\"relu\"\n",
        "        ),\n",
        "        layers.MaxPooling2D(),\n",
        "\n",
        "        layers.Conv2D(\n",
        "            filters=hp.Choice(\"conv_2_filter\", values=[64, 128], default=64),\n",
        "            kernel_size=hp.Choice(\"conv_2_kernel\", values=[3,5]),\n",
        "            activation=\"relu\"\n",
        "        ),\n",
        "        layers.MaxPooling2D(),\n",
        "\n",
        "        layers.Flatten(),\n",
        "        layers.Dense(\n",
        "            units=hp.Choice(\"dense_units\", values=[64, 128], default=64),\n",
        "            activation=\"relu\"\n",
        "        ),\n",
        "        layers.Dense(len(class_names), activation=\"softmax\")\n",
        "    ])\n",
        "\n",
        "    model.compile(\n",
        "        optimizer=tf.keras.optimizers.Adam(\n",
        "            hp.Choice(\"learning_rate\", values=[1e-2, 1e-3, 1e-4])\n",
        "        ),\n",
        "        loss=\"sparse_categorical_crossentropy\",\n",
        "        metrics=[\"accuracy\"]\n",
        "    )\n",
        "    return model\n"
      ],
      "metadata": {
        "id": "pqNeVoTNtVub"
      },
      "execution_count": 8,
      "outputs": []
    },
    {
      "cell_type": "code",
      "source": [
        "tuner = kt.RandomSearch(\n",
        "    build_model,\n",
        "    objective=\"val_accuracy\",\n",
        "    max_trials=5,\n",
        "    directory=\"tuner_dir\",\n",
        "    project_name=\"sports_classification\"\n",
        ")\n",
        "\n",
        "tuner.search(train_ds, validation_data=val_ds, epochs=5)\n"
      ],
      "metadata": {
        "colab": {
          "base_uri": "https://localhost:8080/"
        },
        "id": "TprY7vFHtdY2",
        "outputId": "e5599f49-2fcd-42fe-d176-474c4241a00f"
      },
      "execution_count": 9,
      "outputs": [
        {
          "output_type": "stream",
          "name": "stdout",
          "text": [
            "Trial 5 Complete [00h 01m 01s]\n",
            "val_accuracy: 0.009999999776482582\n",
            "\n",
            "Best val_accuracy So Far: 0.2879999876022339\n",
            "Total elapsed time: 00h 06m 35s\n"
          ]
        }
      ]
    },
    {
      "cell_type": "code",
      "source": [
        "best_hps = tuner.get_best_hyperparameters(1)[0]\n",
        "print(\"Best hyperparameters:\")\n",
        "print(\"Conv1 filters:\", best_hps.get(\"conv_1_filter\"))\n",
        "print(\"Conv1 kernel:\", best_hps.get(\"conv_1_kernel\"))\n",
        "print(\"Conv2 filters:\", best_hps.get(\"conv_2_filter\"))\n",
        "print(\"Conv2 kernel:\", best_hps.get(\"conv_2_kernel\"))\n",
        "print(\"Dense units:\", best_hps.get(\"dense_units\"))\n",
        "print(\"Learning rate:\", best_hps.get(\"learning_rate\"))\n",
        "\n",
        "model = tuner.hypermodel.build(best_hps)\n"
      ],
      "metadata": {
        "colab": {
          "base_uri": "https://localhost:8080/"
        },
        "id": "7D1cS4Ed5fJ8",
        "outputId": "93324311-5366-412a-9bd1-b75282ba980a"
      },
      "execution_count": 10,
      "outputs": [
        {
          "output_type": "stream",
          "name": "stdout",
          "text": [
            "Best hyperparameters:\n",
            "Conv1 filters: 32\n",
            "Conv1 kernel: 3\n",
            "Conv2 filters: 128\n",
            "Conv2 kernel: 5\n",
            "Dense units: 128\n",
            "Learning rate: 0.0001\n"
          ]
        }
      ]
    },
    {
      "cell_type": "code",
      "source": [
        "history = model.fit(\n",
        "    train_ds,\n",
        "    validation_data=val_ds,\n",
        "    epochs=10\n",
        ")\n"
      ],
      "metadata": {
        "colab": {
          "base_uri": "https://localhost:8080/"
        },
        "id": "KcxZPWtB5lVm",
        "outputId": "e21539ee-5c71-420f-f96a-bfef8fb405d1"
      },
      "execution_count": 11,
      "outputs": [
        {
          "output_type": "stream",
          "name": "stdout",
          "text": [
            "Epoch 1/10\n",
            "\u001b[1m422/422\u001b[0m \u001b[32m━━━━━━━━━━━━━━━━━━━━\u001b[0m\u001b[37m\u001b[0m \u001b[1m17s\u001b[0m 29ms/step - accuracy: 0.0307 - loss: 4.5181 - val_accuracy: 0.0680 - val_loss: 4.1890\n",
            "Epoch 2/10\n",
            "\u001b[1m422/422\u001b[0m \u001b[32m━━━━━━━━━━━━━━━━━━━━\u001b[0m\u001b[37m\u001b[0m \u001b[1m10s\u001b[0m 24ms/step - accuracy: 0.1149 - loss: 3.9566 - val_accuracy: 0.1660 - val_loss: 3.5447\n",
            "Epoch 3/10\n",
            "\u001b[1m422/422\u001b[0m \u001b[32m━━━━━━━━━━━━━━━━━━━━\u001b[0m\u001b[37m\u001b[0m \u001b[1m10s\u001b[0m 24ms/step - accuracy: 0.2290 - loss: 3.2730 - val_accuracy: 0.2160 - val_loss: 3.1740\n",
            "Epoch 4/10\n",
            "\u001b[1m422/422\u001b[0m \u001b[32m━━━━━━━━━━━━━━━━━━━━\u001b[0m\u001b[37m\u001b[0m \u001b[1m10s\u001b[0m 24ms/step - accuracy: 0.3460 - loss: 2.7006 - val_accuracy: 0.2600 - val_loss: 2.9905\n",
            "Epoch 5/10\n",
            "\u001b[1m422/422\u001b[0m \u001b[32m━━━━━━━━━━━━━━━━━━━━\u001b[0m\u001b[37m\u001b[0m \u001b[1m10s\u001b[0m 24ms/step - accuracy: 0.4263 - loss: 2.3035 - val_accuracy: 0.2620 - val_loss: 2.9858\n",
            "Epoch 6/10\n",
            "\u001b[1m422/422\u001b[0m \u001b[32m━━━━━━━━━━━━━━━━━━━━\u001b[0m\u001b[37m\u001b[0m \u001b[1m10s\u001b[0m 24ms/step - accuracy: 0.5212 - loss: 1.9188 - val_accuracy: 0.2700 - val_loss: 3.0181\n",
            "Epoch 7/10\n",
            "\u001b[1m422/422\u001b[0m \u001b[32m━━━━━━━━━━━━━━━━━━━━\u001b[0m\u001b[37m\u001b[0m \u001b[1m10s\u001b[0m 24ms/step - accuracy: 0.5950 - loss: 1.6135 - val_accuracy: 0.2980 - val_loss: 3.0125\n",
            "Epoch 8/10\n",
            "\u001b[1m422/422\u001b[0m \u001b[32m━━━━━━━━━━━━━━━━━━━━\u001b[0m\u001b[37m\u001b[0m \u001b[1m10s\u001b[0m 24ms/step - accuracy: 0.6780 - loss: 1.3097 - val_accuracy: 0.2800 - val_loss: 3.1264\n",
            "Epoch 9/10\n",
            "\u001b[1m422/422\u001b[0m \u001b[32m━━━━━━━━━━━━━━━━━━━━\u001b[0m\u001b[37m\u001b[0m \u001b[1m10s\u001b[0m 24ms/step - accuracy: 0.7406 - loss: 1.0761 - val_accuracy: 0.2640 - val_loss: 3.2460\n",
            "Epoch 10/10\n",
            "\u001b[1m422/422\u001b[0m \u001b[32m━━━━━━━━━━━━━━━━━━━━\u001b[0m\u001b[37m\u001b[0m \u001b[1m10s\u001b[0m 24ms/step - accuracy: 0.8028 - loss: 0.8448 - val_accuracy: 0.2820 - val_loss: 3.3599\n"
          ]
        }
      ]
    },
    {
      "cell_type": "code",
      "source": [
        "test_loss, test_acc = model.evaluate(test_ds)\n",
        "print(\"Test Accuracy:\", test_acc)\n"
      ],
      "metadata": {
        "colab": {
          "base_uri": "https://localhost:8080/"
        },
        "id": "SaZJn-DGTckr",
        "outputId": "d2e2ca10-46d7-491c-fffe-ed7d1d57b8af"
      },
      "execution_count": 12,
      "outputs": [
        {
          "output_type": "stream",
          "name": "stdout",
          "text": [
            "\u001b[1m16/16\u001b[0m \u001b[32m━━━━━━━━━━━━━━━━━━━━\u001b[0m\u001b[37m\u001b[0m \u001b[1m1s\u001b[0m 74ms/step - accuracy: 0.3310 - loss: 3.0935\n",
            "Test Accuracy: 0.30799999833106995\n"
          ]
        }
      ]
    },
    {
      "cell_type": "code",
      "source": [
        "y_true = []\n",
        "y_pred = []\n",
        "\n",
        "for images, labels in test_ds:\n",
        "    preds = model.predict(images)\n",
        "    y_true.extend(labels.numpy())\n",
        "    y_pred.extend(np.argmax(preds, axis=1))\n",
        "\n",
        "print(classification_report(y_true, y_pred, target_names=class_names))\n"
      ],
      "metadata": {
        "colab": {
          "base_uri": "https://localhost:8080/"
        },
        "id": "xVO2fv5vTiCy",
        "outputId": "613eec63-59cd-4fac-92ec-830303756149"
      },
      "execution_count": 13,
      "outputs": [
        {
          "output_type": "stream",
          "name": "stdout",
          "text": [
            "\u001b[1m1/1\u001b[0m \u001b[32m━━━━━━━━━━━━━━━━━━━━\u001b[0m\u001b[37m\u001b[0m \u001b[1m1s\u001b[0m 624ms/step\n",
            "\u001b[1m1/1\u001b[0m \u001b[32m━━━━━━━━━━━━━━━━━━━━\u001b[0m\u001b[37m\u001b[0m \u001b[1m0s\u001b[0m 36ms/step\n",
            "\u001b[1m1/1\u001b[0m \u001b[32m━━━━━━━━━━━━━━━━━━━━\u001b[0m\u001b[37m\u001b[0m \u001b[1m0s\u001b[0m 34ms/step\n",
            "\u001b[1m1/1\u001b[0m \u001b[32m━━━━━━━━━━━━━━━━━━━━\u001b[0m\u001b[37m\u001b[0m \u001b[1m0s\u001b[0m 37ms/step\n",
            "\u001b[1m1/1\u001b[0m \u001b[32m━━━━━━━━━━━━━━━━━━━━\u001b[0m\u001b[37m\u001b[0m \u001b[1m0s\u001b[0m 35ms/step\n",
            "\u001b[1m1/1\u001b[0m \u001b[32m━━━━━━━━━━━━━━━━━━━━\u001b[0m\u001b[37m\u001b[0m \u001b[1m0s\u001b[0m 34ms/step\n",
            "\u001b[1m1/1\u001b[0m \u001b[32m━━━━━━━━━━━━━━━━━━━━\u001b[0m\u001b[37m\u001b[0m \u001b[1m0s\u001b[0m 35ms/step\n",
            "\u001b[1m1/1\u001b[0m \u001b[32m━━━━━━━━━━━━━━━━━━━━\u001b[0m\u001b[37m\u001b[0m \u001b[1m0s\u001b[0m 34ms/step\n",
            "\u001b[1m1/1\u001b[0m \u001b[32m━━━━━━━━━━━━━━━━━━━━\u001b[0m\u001b[37m\u001b[0m \u001b[1m0s\u001b[0m 34ms/step\n",
            "\u001b[1m1/1\u001b[0m \u001b[32m━━━━━━━━━━━━━━━━━━━━\u001b[0m\u001b[37m\u001b[0m \u001b[1m0s\u001b[0m 39ms/step\n",
            "\u001b[1m1/1\u001b[0m \u001b[32m━━━━━━━━━━━━━━━━━━━━\u001b[0m\u001b[37m\u001b[0m \u001b[1m0s\u001b[0m 34ms/step\n",
            "\u001b[1m1/1\u001b[0m \u001b[32m━━━━━━━━━━━━━━━━━━━━\u001b[0m\u001b[37m\u001b[0m \u001b[1m0s\u001b[0m 33ms/step\n",
            "\u001b[1m1/1\u001b[0m \u001b[32m━━━━━━━━━━━━━━━━━━━━\u001b[0m\u001b[37m\u001b[0m \u001b[1m0s\u001b[0m 34ms/step\n",
            "\u001b[1m1/1\u001b[0m \u001b[32m━━━━━━━━━━━━━━━━━━━━\u001b[0m\u001b[37m\u001b[0m \u001b[1m0s\u001b[0m 34ms/step\n",
            "\u001b[1m1/1\u001b[0m \u001b[32m━━━━━━━━━━━━━━━━━━━━\u001b[0m\u001b[37m\u001b[0m \u001b[1m0s\u001b[0m 38ms/step\n",
            "\u001b[1m1/1\u001b[0m \u001b[32m━━━━━━━━━━━━━━━━━━━━\u001b[0m\u001b[37m\u001b[0m \u001b[1m1s\u001b[0m 504ms/step\n",
            "                       precision    recall  f1-score   support\n",
            "\n",
            "           air hockey       0.50      0.40      0.44         5\n",
            "      ampute football       0.33      0.20      0.25         5\n",
            "              archery       0.25      0.20      0.22         5\n",
            "        arm wrestling       0.43      0.60      0.50         5\n",
            "         axe throwing       0.33      0.20      0.25         5\n",
            "         balance beam       0.40      0.40      0.40         5\n",
            "        barell racing       0.25      0.20      0.22         5\n",
            "             baseball       0.00      0.00      0.00         5\n",
            "           basketball       0.08      0.20      0.12         5\n",
            "       baton twirling       0.00      0.00      0.00         5\n",
            "            bike polo       0.25      0.20      0.22         5\n",
            "            billiards       0.57      0.80      0.67         5\n",
            "                  bmx       0.00      0.00      0.00         5\n",
            "              bobsled       0.00      0.00      0.00         5\n",
            "              bowling       0.20      0.20      0.20         5\n",
            "               boxing       0.33      0.20      0.25         5\n",
            "          bull riding       0.00      0.00      0.00         5\n",
            "       bungee jumping       0.00      0.00      0.00         5\n",
            "         canoe slamon       0.11      0.20      0.14         5\n",
            "         cheerleading       0.00      0.00      0.00         5\n",
            "    chuckwagon racing       0.00      0.00      0.00         5\n",
            "              cricket       0.33      0.40      0.36         5\n",
            "              croquet       0.60      0.60      0.60         5\n",
            "              curling       0.57      0.80      0.67         5\n",
            "            disc golf       0.67      0.40      0.50         5\n",
            "              fencing       0.00      0.00      0.00         5\n",
            "         field hockey       0.43      0.60      0.50         5\n",
            "   figure skating men       0.50      0.60      0.55         5\n",
            " figure skating pairs       0.17      0.20      0.18         5\n",
            " figure skating women       0.22      0.40      0.29         5\n",
            "          fly fishing       0.29      0.40      0.33         5\n",
            "             football       0.18      0.40      0.25         5\n",
            "     formula 1 racing       0.50      0.40      0.44         5\n",
            "              frisbee       0.00      0.00      0.00         5\n",
            "                 gaga       0.00      0.00      0.00         5\n",
            "         giant slalom       1.00      0.80      0.89         5\n",
            "                 golf       0.14      0.20      0.17         5\n",
            "         hammer throw       0.33      0.60      0.43         5\n",
            "         hang gliding       0.33      0.20      0.25         5\n",
            "       harness racing       0.50      0.60      0.55         5\n",
            "            high jump       0.50      0.60      0.55         5\n",
            "               hockey       0.25      0.20      0.22         5\n",
            "        horse jumping       0.50      0.20      0.29         5\n",
            "         horse racing       0.25      0.20      0.22         5\n",
            "   horseshoe pitching       0.00      0.00      0.00         5\n",
            "              hurdles       0.14      0.20      0.17         5\n",
            "    hydroplane racing       0.50      0.60      0.55         5\n",
            "         ice climbing       0.14      0.60      0.23         5\n",
            "         ice yachting       0.80      0.80      0.80         5\n",
            "             jai alai       0.23      0.60      0.33         5\n",
            "              javelin       0.00      0.00      0.00         5\n",
            "             jousting       0.50      0.60      0.55         5\n",
            "                 judo       0.75      0.60      0.67         5\n",
            "             lacrosse       0.50      0.20      0.29         5\n",
            "          log rolling       0.00      0.00      0.00         5\n",
            "                 luge       0.20      0.20      0.20         5\n",
            "    motorcycle racing       1.00      0.40      0.57         5\n",
            "              mushing       0.38      0.60      0.46         5\n",
            "        nascar racing       0.22      0.40      0.29         5\n",
            "    olympic wrestling       0.25      0.40      0.31         5\n",
            "         parallel bar       0.00      0.00      0.00         5\n",
            "        pole climbing       0.43      0.60      0.50         5\n",
            "         pole dancing       0.00      0.00      0.00         5\n",
            "           pole vault       0.00      0.00      0.00         5\n",
            "                 polo       1.00      0.60      0.75         5\n",
            "         pommel horse       0.30      0.60      0.40         5\n",
            "                rings       0.33      0.20      0.25         5\n",
            "        rock climbing       0.40      0.40      0.40         5\n",
            "         roller derby       0.33      0.20      0.25         5\n",
            "   rollerblade racing       0.50      0.20      0.29         5\n",
            "               rowing       0.25      0.40      0.31         5\n",
            "                rugby       0.50      0.60      0.55         5\n",
            "      sailboat racing       0.80      0.80      0.80         5\n",
            "             shot put       0.30      0.60      0.40         5\n",
            "         shuffleboard       0.25      0.20      0.22         5\n",
            "       sidecar racing       0.25      0.20      0.22         5\n",
            "          ski jumping       0.33      0.60      0.43         5\n",
            "          sky surfing       0.50      0.40      0.44         5\n",
            "            skydiving       1.00      0.20      0.33         5\n",
            "        snow boarding       0.00      0.00      0.00         5\n",
            "    snowmobile racing       0.14      0.20      0.17         5\n",
            "        speed skating       0.00      0.00      0.00         5\n",
            "      steer wrestling       0.50      0.40      0.44         5\n",
            "       sumo wrestling       0.33      0.40      0.36         5\n",
            "              surfing       1.00      0.20      0.33         5\n",
            "             swimming       0.40      0.40      0.40         5\n",
            "         table tennis       0.25      0.20      0.22         5\n",
            "               tennis       0.50      0.20      0.29         5\n",
            "        track bicycle       0.50      0.40      0.44         5\n",
            "              trapeze       0.25      0.20      0.22         5\n",
            "           tug of war       0.00      0.00      0.00         5\n",
            "             ultimate       0.00      0.00      0.00         5\n",
            "          uneven bars       0.12      0.20      0.15         5\n",
            "           volleyball       0.17      0.20      0.18         5\n",
            "        water cycling       0.67      0.40      0.50         5\n",
            "           water polo       0.60      0.60      0.60         5\n",
            "        weightlifting       0.67      0.40      0.50         5\n",
            "wheelchair basketball       0.00      0.00      0.00         5\n",
            "    wheelchair racing       0.14      0.20      0.17         5\n",
            "      wingsuit flying       0.67      0.40      0.50         5\n",
            "\n",
            "             accuracy                           0.31       500\n",
            "            macro avg       0.32      0.31      0.30       500\n",
            "         weighted avg       0.32      0.31      0.30       500\n",
            "\n"
          ]
        },
        {
          "output_type": "stream",
          "name": "stderr",
          "text": [
            "/usr/local/lib/python3.12/dist-packages/sklearn/metrics/_classification.py:1565: UndefinedMetricWarning: Precision is ill-defined and being set to 0.0 in labels with no predicted samples. Use `zero_division` parameter to control this behavior.\n",
            "  _warn_prf(average, modifier, f\"{metric.capitalize()} is\", len(result))\n",
            "/usr/local/lib/python3.12/dist-packages/sklearn/metrics/_classification.py:1565: UndefinedMetricWarning: Precision is ill-defined and being set to 0.0 in labels with no predicted samples. Use `zero_division` parameter to control this behavior.\n",
            "  _warn_prf(average, modifier, f\"{metric.capitalize()} is\", len(result))\n",
            "/usr/local/lib/python3.12/dist-packages/sklearn/metrics/_classification.py:1565: UndefinedMetricWarning: Precision is ill-defined and being set to 0.0 in labels with no predicted samples. Use `zero_division` parameter to control this behavior.\n",
            "  _warn_prf(average, modifier, f\"{metric.capitalize()} is\", len(result))\n"
          ]
        }
      ]
    }
  ]
}